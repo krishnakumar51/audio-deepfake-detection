{
  "nbformat": 4,
  "nbformat_minor": 0,
  "metadata": {
    "colab": {
      "provenance": [],
      "gpuType": "T4"
    },
    "kernelspec": {
      "name": "python3",
      "display_name": "Python 3"
    },
    "language_info": {
      "name": "python"
    },
    "accelerator": "GPU"
  },
  "cells": [
    {
      "cell_type": "code",
      "execution_count": null,
      "metadata": {
        "id": "L3ZCx_w6rQta"
      },
      "outputs": [],
      "source": []
    },
    {
      "cell_type": "code",
      "source": [
        "import os\n",
        "\n",
        "!mkdir -p /content/data/ASVspoof5"
      ],
      "metadata": {
        "id": "uLAo7nZNp3vu"
      },
      "execution_count": 1,
      "outputs": []
    },
    {
      "cell_type": "code",
      "source": [
        "!wget -O /content/data/ASVspoof5/flac_D_aa.tar \"https://zenodo.org/records/14498691/files/flac_D_aa.tar?download=1\""
      ],
      "metadata": {
        "colab": {
          "base_uri": "https://localhost:8080/"
        },
        "id": "q409y_MEp3x9",
        "outputId": "139d44bd-f565-4b8e-be8a-1cee4de837fc"
      },
      "execution_count": 2,
      "outputs": [
        {
          "output_type": "stream",
          "name": "stdout",
          "text": [
            "--2025-04-05 13:53:51--  https://zenodo.org/records/14498691/files/flac_D_aa.tar?download=1\n",
            "Resolving zenodo.org (zenodo.org)... 188.185.48.194, 188.185.43.25, 188.185.45.92, ...\n",
            "Connecting to zenodo.org (zenodo.org)|188.185.48.194|:443... connected.\n",
            "HTTP request sent, awaiting response... 200 OK\n",
            "Length: 6647265280 (6.2G) [application/octet-stream]\n",
            "Saving to: ‘/content/data/ASVspoof5/flac_D_aa.tar’\n",
            "\n",
            "/content/data/ASVsp 100%[===================>]   6.19G  19.3MB/s    in 8m 19s  \n",
            "\n",
            "2025-04-05 14:02:10 (12.7 MB/s) - ‘/content/data/ASVspoof5/flac_D_aa.tar’ saved [6647265280/6647265280]\n",
            "\n"
          ]
        }
      ]
    },
    {
      "cell_type": "code",
      "source": [
        "!tar -xf /content/data/ASVspoof5/flac_D_aa.tar -C /content/data/ASVspoof5"
      ],
      "metadata": {
        "id": "wN8obo4up31F"
      },
      "execution_count": 4,
      "outputs": []
    },
    {
      "cell_type": "code",
      "source": [
        "# Extract the protocols\n",
        "!tar -xzf /content/data/ASVspoof5/ASVspoof5_protocols.tar.gz -C /content/data/ASVspoof5\n",
        "\n",
        "# Download one audio part (flac_D_aa.tar)\n",
        "!wget -O /content/data/ASVspoof5/flac_D_aa.tar \"https://zenodo.org/records/14498691/files/flac_D_aa.tar?download=1\"\n",
        "\n",
        "# Extract the audio part\n",
        "!tar -xf /content/data/ASVspoof5/flac_D_aa.tar -C /content/data/ASVspoof5\n",
        "\n",
        "# Verify the contents\n",
        "!ls /content/data/ASVspoof5"
      ],
      "metadata": {
        "colab": {
          "base_uri": "https://localhost:8080/"
        },
        "id": "irdagS1yp33k",
        "outputId": "24d4ca10-fbbb-4487-a817-3a65e078ce2c"
      },
      "execution_count": 5,
      "outputs": [
        {
          "output_type": "stream",
          "name": "stdout",
          "text": [
            "tar (child): /content/data/ASVspoof5/ASVspoof5_protocols.tar.gz: Cannot open: No such file or directory\n",
            "tar (child): Error is not recoverable: exiting now\n",
            "tar: Child returned status 2\n",
            "tar: Error is not recoverable: exiting now\n",
            "--2025-04-05 14:11:21--  https://zenodo.org/records/14498691/files/flac_D_aa.tar?download=1\n",
            "Resolving zenodo.org (zenodo.org)... 188.185.43.25, 188.185.48.194, 188.185.45.92, ...\n",
            "Connecting to zenodo.org (zenodo.org)|188.185.43.25|:443... connected.\n",
            "HTTP request sent, awaiting response... 200 OK\n",
            "Length: 6647265280 (6.2G) [application/octet-stream]\n",
            "Saving to: ‘/content/data/ASVspoof5/flac_D_aa.tar’\n",
            "\n",
            "/content/data/ASVsp 100%[===================>]   6.19G  19.9MB/s    in 5m 31s  \n",
            "\n",
            "2025-04-05 14:16:53 (19.1 MB/s) - ‘/content/data/ASVspoof5/flac_D_aa.tar’ saved [6647265280/6647265280]\n",
            "\n",
            "flac_D\tflac_D_aa.tar\n"
          ]
        }
      ]
    },
    {
      "cell_type": "code",
      "source": [
        "import pandas as pd\n",
        "import glob\n",
        "\n",
        "# Find FLAC files\n",
        "audio_files = glob.glob('/content/data/ASVspoof5/flac_D/*.flac')\n",
        "num_files = len(audio_files)\n",
        "print(f\"Found {num_files} FLAC files\")\n",
        "\n",
        "\n",
        "if num_files > 0:\n",
        "    mid_point = num_files // 2\n",
        "    metadata = pd.DataFrame({\n",
        "        'speaker_id': ['S{:03d}'.format(i % 50) for i in range(num_files)],\n",
        "        'audio_file': [os.path.basename(f).replace('.flac', '') for f in audio_files],\n",
        "        'system_id': ['A01' if i < mid_point else 'A02' for i in range(num_files)],\n",
        "        'key': ['bonafide' if i < mid_point else 'spoof' for i in range(num_files)]\n",
        "    })\n",
        "    metadata.to_csv('/content/data/ASVspoof5/metadata.txt', sep=' ', index=False, header=False)\n",
        "else:\n",
        "    raise ValueError(\"No FLAC files found\")"
      ],
      "metadata": {
        "id": "yc4pFNMhrWKV",
        "colab": {
          "base_uri": "https://localhost:8080/"
        },
        "outputId": "4ff9b180-bc97-4758-e910-8ec11c2dbabe"
      },
      "execution_count": 6,
      "outputs": [
        {
          "output_type": "stream",
          "name": "stdout",
          "text": [
            "Found 47400 FLAC files\n"
          ]
        }
      ]
    },
    {
      "cell_type": "code",
      "source": [
        "import os\n",
        "import torch\n",
        "import torch.nn as nn\n",
        "import torch.optim as optim\n",
        "from torch.utils.data import DataLoader, Dataset, WeightedRandomSampler\n",
        "import librosa\n",
        "import numpy as np\n",
        "import pandas as pd\n",
        "from sklearn.metrics import accuracy_score, precision_score, recall_score, f1_score, confusion_matrix\n",
        "import matplotlib.pyplot as plt\n",
        "import seaborn as sns\n",
        "from torchvision import models\n",
        "import random\n"
      ],
      "metadata": {
        "id": "NXo6PFcZrWDv"
      },
      "execution_count": 7,
      "outputs": []
    },
    {
      "cell_type": "code",
      "source": [
        "class FocalLoss(nn.Module):\n",
        "    def __init__(self, alpha=1, gamma=2, logits=True, reduce=True):\n",
        "        super(FocalLoss, self).__init__()\n",
        "        self.alpha = alpha\n",
        "        self.gamma = gamma\n",
        "        self.logits = logits\n",
        "        self.reduce = reduce\n",
        "\n",
        "    def forward(self, inputs, targets):\n",
        "        if self.logits:\n",
        "            BCE_loss = nn.functional.binary_cross_entropy_with_logits(inputs, targets, reduction='none')\n",
        "        else:\n",
        "            BCE_loss = nn.functional.binary_cross_entropy(inputs, targets, reduction='none')\n",
        "        pt = torch.exp(-BCE_loss)\n",
        "        F_loss = self.alpha * (1-pt)**self.gamma * BCE_loss\n",
        "        if self.reduce:\n",
        "            return torch.mean(F_loss)\n",
        "        else:\n",
        "            return F_loss\n"
      ],
      "metadata": {
        "id": "d4FC92VXTI1b"
      },
      "execution_count": 8,
      "outputs": []
    },
    {
      "cell_type": "code",
      "source": [
        "class ASVspoofDataset(Dataset):\n",
        "    def __init__(self, metadata_file, audio_dir, sr=16000, n_mels=128, duration=2, augment=False):\n",
        "        self.metadata = pd.read_csv(metadata_file, delim_whitespace=True, header=None)\n",
        "        self.metadata.columns = ['speaker_id', 'audio_file', 'system_id', 'key']\n",
        "        self.audio_dir = audio_dir\n",
        "        self.sr = sr\n",
        "        self.n_mels = n_mels\n",
        "        self.duration = duration\n",
        "        self.augment = augment\n",
        "\n",
        "    def __len__(self):\n",
        "        return len(self.metadata)\n",
        "\n",
        "    def __getitem__(self, idx):\n",
        "        audio_file = os.path.join(self.audio_dir, self.metadata.iloc[idx, 1] + '.flac')\n",
        "        label = 1 if self.metadata.iloc[idx, 3] == 'bonafide' else 0\n",
        "\n",
        "        audio, _ = librosa.load(audio_file, sr=self.sr)\n",
        "        expected_length = self.sr * self.duration\n",
        "\n",
        "        # Data augmentation: random time shift\n",
        "        if self.augment:\n",
        "            shift = random.randint(-int(0.1 * self.sr), int(0.1 * self.sr))\n",
        "            audio = np.roll(audio, shift)\n",
        "            # adding noise:\n",
        "            noise = np.random.normal(0, 0.005, audio.shape)\n",
        "            audio = audio + noise\n",
        "\n",
        "        # Pad or truncate\n",
        "        if len(audio) < expected_length:\n",
        "            audio = np.pad(audio, (0, expected_length - len(audio)), mode='constant')\n",
        "        else:\n",
        "            audio = audio[:expected_length]\n",
        "\n",
        "        # Compute mel-spectrogram\n",
        "        mel_spec = librosa.feature.melspectrogram(y=audio, sr=self.sr, n_mels=self.n_mels)\n",
        "        mel_spec = librosa.power_to_db(mel_spec, ref=np.max)\n",
        "        mel_spec = (mel_spec - np.mean(mel_spec)) / (np.std(mel_spec) + 1e-6)\n",
        "        mel_spec = np.expand_dims(mel_spec, axis=0)\n",
        "        return torch.tensor(mel_spec, dtype=torch.float32), torch.tensor(label, dtype=torch.float32)\n"
      ],
      "metadata": {
        "id": "jAJq5eCrTN5p"
      },
      "execution_count": 9,
      "outputs": []
    },
    {
      "cell_type": "code",
      "source": [
        "# Improved ResNet-based model without final activation\n",
        "class ResNetAudioImproved(nn.Module):\n",
        "    def __init__(self):\n",
        "        super(ResNetAudioImproved, self).__init__()\n",
        "        self.model = models.resnet18(pretrained=False)\n",
        "        self.model.conv1 = nn.Conv2d(1, 64, kernel_size=7, stride=2, padding=3, bias=False)\n",
        "        self.model.fc = nn.Sequential(\n",
        "            nn.Linear(self.model.fc.in_features, 128),\n",
        "            nn.ReLU(),\n",
        "            nn.Dropout(0.5),\n",
        "            nn.Linear(128, 1)\n",
        "        )\n",
        "\n",
        "    def forward(self, x):\n",
        "        return self.model(x)"
      ],
      "metadata": {
        "id": "AnikeqCSTSPS"
      },
      "execution_count": 10,
      "outputs": []
    },
    {
      "cell_type": "code",
      "source": [
        "metadata_file = '/content/data/ASVspoof5/metadata.txt'\n",
        "audio_dir = '/content/data/ASVspoof5/flac_D/'\n"
      ],
      "metadata": {
        "id": "vEV_G_QzTXdc"
      },
      "execution_count": 11,
      "outputs": []
    },
    {
      "cell_type": "code",
      "source": [
        "full_dataset = ASVspoofDataset(metadata_file, audio_dir, augment=True)\n",
        "\n",
        "\n",
        "# For class balancing, compute weights (assuming binary classes)\n",
        "labels = [1 if full_dataset.metadata.iloc[i, 3] == 'bonafide' else 0 for i in range(len(full_dataset))]\n",
        "class_sample_count = np.array([np.sum(np.array(labels)==0), np.sum(np.array(labels)==1)])\n",
        "weight = 1. / class_sample_count\n",
        "samples_weight = np.array([weight[int(t)] for t in labels])\n",
        "samples_weight = torch.from_numpy(samples_weight).float()"
      ],
      "metadata": {
        "colab": {
          "base_uri": "https://localhost:8080/"
        },
        "id": "ILwKIMQZTXXB",
        "outputId": "9cbc0531-96fe-43d8-e8ed-048169b7a870"
      },
      "execution_count": 12,
      "outputs": [
        {
          "output_type": "stream",
          "name": "stderr",
          "text": [
            "<ipython-input-9-7e5c2b9e77fb>:4: FutureWarning: The 'delim_whitespace' keyword in pd.read_csv is deprecated and will be removed in a future version. Use ``sep='\\s+'`` instead\n",
            "  self.metadata = pd.read_csv(metadata_file, delim_whitespace=True, header=None)\n"
          ]
        }
      ]
    },
    {
      "cell_type": "code",
      "source": [
        "sampler = WeightedRandomSampler(samples_weight, len(samples_weight))"
      ],
      "metadata": {
        "id": "zZMKmiT6TXT4"
      },
      "execution_count": 13,
      "outputs": []
    },
    {
      "cell_type": "code",
      "source": [
        "# Splitting the dataset\n",
        "train_size = int(0.8 * len(full_dataset))\n",
        "val_size = len(full_dataset) - train_size\n",
        "train_dataset, val_dataset = torch.utils.data.random_split(full_dataset, [train_size, val_size])\n"
      ],
      "metadata": {
        "id": "_P_xSU0STXQa"
      },
      "execution_count": 14,
      "outputs": []
    },
    {
      "cell_type": "code",
      "source": [
        "from torch.utils.data import random_split\n",
        "\n",
        "train_size = int(0.8 * len(full_dataset))\n",
        "val_size = len(full_dataset) - train_size\n",
        "\n",
        "train_dataset, val_dataset = random_split(full_dataset, [train_size, val_size])\n",
        "train_loader = DataLoader(train_dataset, batch_size=32, shuffle=True)"
      ],
      "metadata": {
        "id": "XHt54dqgTXNe"
      },
      "execution_count": 19,
      "outputs": []
    },
    {
      "cell_type": "code",
      "source": [
        "device = torch.device('cuda' if torch.cuda.is_available() else 'cpu')\n",
        "model = ResNetAudioImproved().to(device)\n",
        "criterion = FocalLoss(alpha=1, gamma=2, logits=True)\n",
        "optimizer = optim.Adam(model.parameters(), lr=0.001)\n",
        "scheduler = optim.lr_scheduler.StepLR(optimizer, step_size=5, gamma=0.5)\n"
      ],
      "metadata": {
        "colab": {
          "base_uri": "https://localhost:8080/"
        },
        "id": "MYFqq6fRTXKm",
        "outputId": "6b047986-ad02-4f8f-e533-50245aaf6c4f"
      },
      "execution_count": 16,
      "outputs": [
        {
          "output_type": "stream",
          "name": "stderr",
          "text": [
            "/usr/local/lib/python3.11/dist-packages/torchvision/models/_utils.py:208: UserWarning: The parameter 'pretrained' is deprecated since 0.13 and may be removed in the future, please use 'weights' instead.\n",
            "  warnings.warn(\n",
            "/usr/local/lib/python3.11/dist-packages/torchvision/models/_utils.py:223: UserWarning: Arguments other than a weight enum or `None` for 'weights' are deprecated since 0.13 and may be removed in the future. The current behavior is equivalent to passing `weights=None`.\n",
            "  warnings.warn(msg)\n"
          ]
        }
      ]
    },
    {
      "cell_type": "code",
      "source": [
        "num_epochs = 10\n",
        "for epoch in range(num_epochs):\n",
        "    model.train()\n",
        "    running_loss = 0.0\n",
        "    correct_preds = 0\n",
        "    total_preds = 0\n",
        "\n",
        "    for inputs, labels in train_loader:\n",
        "        inputs, labels = inputs.to(device), labels.to(device).unsqueeze(1)\n",
        "\n",
        "        optimizer.zero_grad()\n",
        "        outputs = model(inputs)\n",
        "        loss = criterion(outputs, labels)\n",
        "        loss.backward()\n",
        "        optimizer.step()\n",
        "\n",
        "        running_loss += loss.item()\n",
        "\n",
        "        # For binary classification\n",
        "        predicted = (outputs > 0.5).float()\n",
        "        correct_preds += (predicted == labels).sum().item()\n",
        "        total_preds += labels.size(0)\n",
        "\n",
        "    scheduler.step()\n",
        "\n",
        "    epoch_loss = running_loss / len(train_loader)\n",
        "    epoch_acc = correct_preds / total_preds\n",
        "    print(f\"Epoch {epoch+1}/{num_epochs}, Loss: {epoch_loss:.4f}, Accuracy: {epoch_acc:.4f}\")\n"
      ],
      "metadata": {
        "colab": {
          "base_uri": "https://localhost:8080/"
        },
        "id": "mMHY7iM2Tqbr",
        "outputId": "2067d18d-8a0e-4db7-88d8-90af60e336ae"
      },
      "execution_count": 20,
      "outputs": [
        {
          "output_type": "stream",
          "name": "stdout",
          "text": [
            "Epoch 1/10, Loss: 0.1738, Accuracy: 0.5017\n",
            "Epoch 2/10, Loss: 0.1733, Accuracy: 0.5016\n",
            "Epoch 3/10, Loss: 0.1733, Accuracy: 0.5016\n",
            "Epoch 4/10, Loss: 0.1733, Accuracy: 0.5016\n",
            "Epoch 5/10, Loss: 0.1733, Accuracy: 0.5016\n",
            "Epoch 6/10, Loss: 0.1733, Accuracy: 0.5016\n",
            "Epoch 7/10, Loss: 0.1733, Accuracy: 0.5016\n",
            "Epoch 8/10, Loss: 0.1733, Accuracy: 0.5016\n",
            "Epoch 9/10, Loss: 0.1733, Accuracy: 0.5016\n",
            "Epoch 10/10, Loss: 0.1733, Accuracy: 0.5016\n"
          ]
        }
      ]
    },
    {
      "cell_type": "code",
      "source": [
        "val_loader = DataLoader(val_dataset, batch_size=32, shuffle=False)"
      ],
      "metadata": {
        "id": "pJ4MxelO1c9c"
      },
      "execution_count": 21,
      "outputs": []
    },
    {
      "cell_type": "code",
      "source": [
        "# Evaluation\n",
        "model.eval()\n",
        "all_preds, all_labels = [], []\n",
        "with torch.no_grad():\n",
        "    for inputs, labels in val_loader:\n",
        "        inputs, labels = inputs.to(device), labels.to(device)\n",
        "        outputs = model(inputs)\n",
        "        probs = torch.sigmoid(outputs)\n",
        "        preds = (probs.squeeze() > 0.5).float()\n",
        "        all_preds.extend(preds.cpu().numpy())\n",
        "        all_labels.extend(labels.cpu().numpy())"
      ],
      "metadata": {
        "id": "9KP4Mgr_TqYO"
      },
      "execution_count": 22,
      "outputs": []
    },
    {
      "cell_type": "code",
      "source": [
        "accuracy = accuracy_score(all_labels, all_preds)\n",
        "precision = precision_score(all_labels, all_preds, zero_division=0)\n",
        "recall = recall_score(all_labels, all_preds, zero_division=0)\n",
        "f1 = f1_score(all_labels, all_preds, zero_division=0)\n",
        "cm = confusion_matrix(all_labels, all_preds)\n",
        "\n",
        "print(\"=== Model Performance Summary ===\")\n",
        "print(f\"Accuracy: {accuracy:.4f}\")\n",
        "print(f\"Precision: {precision:.4f}\")\n",
        "print(f\"Recall: {recall:.4f}\")\n",
        "print(f\"F1-Score: {f1:.4f}\")\n",
        "print(\"\\nConfusion Matrix:\")\n",
        "print(cm)\n",
        "print(f\"True Negatives (TN): {cm[0,0]}\")\n",
        "print(f\"False Positives (FP): {cm[0,1]}\")\n",
        "print(f\"False Negatives (FN): {cm[1,0]}\")\n",
        "print(f\"True Positives (TP): {cm[1,1]}\")\n",
        "\n"
      ],
      "metadata": {
        "colab": {
          "base_uri": "https://localhost:8080/"
        },
        "id": "90GYs8IzTqVX",
        "outputId": "302b1b5f-55ea-4b8b-f52d-e3b54d66f568"
      },
      "execution_count": 23,
      "outputs": [
        {
          "output_type": "stream",
          "name": "stdout",
          "text": [
            "=== Model Performance Summary ===\n",
            "Accuracy: 0.5065\n",
            "Precision: 0.5065\n",
            "Recall: 1.0000\n",
            "F1-Score: 0.6725\n",
            "\n",
            "Confusion Matrix:\n",
            "[[   0 4678]\n",
            " [   0 4802]]\n",
            "True Negatives (TN): 0\n",
            "False Positives (FP): 4678\n",
            "False Negatives (FN): 0\n",
            "True Positives (TP): 4802\n"
          ]
        }
      ]
    },
    {
      "cell_type": "code",
      "source": [
        "plt.figure(figsize=(6,4))\n",
        "sns.heatmap(cm, annot=True, fmt='d', cmap='Blues', xticklabels=['Spoof', 'Bonafide'], yticklabels=['Spoof', 'Bonafide'])\n",
        "plt.xlabel('Predicted')\n",
        "plt.ylabel('Actual')\n",
        "plt.title('Confusion Matrix')\n",
        "plt.show()"
      ],
      "metadata": {
        "colab": {
          "base_uri": "https://localhost:8080/",
          "height": 410
        },
        "id": "KhQBxs8nT1Gj",
        "outputId": "0b3a6831-c33e-48cb-800e-a6b64bf5cf30"
      },
      "execution_count": 24,
      "outputs": [
        {
          "output_type": "display_data",
          "data": {
            "text/plain": [
              "<Figure size 600x400 with 2 Axes>"
            ],
            "image/png": "[encoded data removed]"
          },
          "metadata": {}
        }
      ]
    },
    {
      "cell_type": "code",
      "source": [],
      "metadata": {
        "id": "jPRBuQ072QVR"
      },
      "execution_count": null,
      "outputs": []
    }
  ]
}